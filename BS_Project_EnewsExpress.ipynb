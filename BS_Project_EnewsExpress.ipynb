{
  "cells": [
    {
      "cell_type": "markdown",
      "metadata": {
        "id": "GvMhJTLf1gHu"
      },
      "source": [
        "# Project Business Statistics: E-News Express\n",
        "\n",
        "**Marks: 60**"
      ]
    },
    {
      "cell_type": "markdown",
      "metadata": {
        "id": "2PzNuU-txvdR"
      },
      "source": [
        "## Problem Statement"
      ]
    },
    {
      "cell_type": "markdown",
      "metadata": {
        "id": "pp8RPj0v5IsD"
      },
      "source": [
        "### Business Context\n",
        "\n",
        "The advent of e-news, or electronic news, portals have offered us a great opportunity to quickly get updates on the day-to-day events occurring globally. The information on these portals is retrieved electronically from online databases, processed using a variety of software, and then transmitted to the users. There are multiple advantages of transmitting new electronically, like faster access to the content and the ability to utilize different technologies such as audio, graphics, video, and other interactive elements that are either not being used or aren’t common yet in traditional newspapers.\n",
        "\n",
        "E-news Express, an online news portal, aims to expand its business by acquiring new subscribers. With every visitor to the website taking certain actions based on their interest, the company plans to analyze these actions to understand user interests and determine how to drive better engagement.  The executives at E-news Express are of the opinion that there has been a decline in new monthly subscribers compared to the past year because the current webpage is not designed well enough in terms of the outline & recommended content to keep customers engaged long enough to make a decision to subscribe.\n",
        "\n",
        "[Companies often analyze user responses to two variants of a product to decide which of the two variants is more effective. This experimental technique, known as A/B testing, is used to determine whether a new feature attracts users based on a chosen metric.]\n",
        "\n",
        "\n",
        "### Objective\n",
        "\n",
        "The design team of the company has researched and created a new landing page that has a new outline & more relevant content shown compared to the old page. In order to test the effectiveness of the new landing page in gathering new subscribers, the Data Science team conducted an experiment by randomly selecting 100 users and dividing them equally into two groups. The existing landing page was served to the first group (control group) and the new landing page to the second group (treatment group). Data regarding the interaction of users in both groups with the two versions of the landing page was collected. Being a data scientist in E-news Express, you have been asked to explore the data and perform a statistical analysis (at a significance level of 5%) to determine the effectiveness of the new landing page in gathering new subscribers for the news portal by answering the following questions:\n",
        "\n",
        "1. Do the users spend more time on the new landing page than on the existing landing page?\n",
        "\n",
        "2. Is the conversion rate (the proportion of users who visit the landing page and get converted) for the new page greater than the conversion rate for the old page?\n",
        "\n",
        "3. Does the converted status depend on the preferred language? [Hint: Create a contingency table using the pandas.crosstab() function]\n",
        "\n",
        "4. Is the time spent on the new page the same for the different language users?\n",
        "\n",
        "\n",
        "### Data Dictionary\n",
        "\n",
        "The data contains information regarding the interaction of users in both groups with the two versions of the landing page.\n",
        "\n",
        "1. user_id - Unique user ID of the person visiting the website\n",
        "\n",
        "2. group - Whether the user belongs to the first group (control) or the second group (treatment)\n",
        "\n",
        "3. landing_page - Whether the landing page is new or old\n",
        "\n",
        "4. time_spent_on_the_page - Time (in minutes) spent by the user on the landing page\n",
        "\n",
        "5. converted - Whether the user gets converted to a subscriber of the news portal or not\n",
        "\n",
        "6. language_preferred - Language chosen by the user to view the landing page"
      ]
    },
    {
      "cell_type": "markdown",
      "metadata": {
        "id": "iFOd4NTyGsDK"
      },
      "source": [
        "## Import the necessary libraries"
      ]
    },
    {
      "cell_type": "code",
      "execution_count": null,
      "metadata": {
        "id": "bxj7okWaGmBr"
      },
      "outputs": [],
      "source": [
        "# Libraries to help with reading and manipulating data\n",
        "import pandas as pd\n",
        "import numpy as np\n",
        "\n",
        "# Libraries to help with data visualization\n",
        "import matplotlib.pyplot as plt\n",
        "import seaborn as sns\n",
        "%matplotlib inline \n",
        "\n",
        "# Library to help with statistical analysis\n",
        "import scipy.stats as stats "
      ]
    },
    {
      "cell_type": "markdown",
      "metadata": {
        "id": "f0u38-sz29Ca"
      },
      "source": [
        "## Loading the dataset"
      ]
    },
    {
      "cell_type": "code",
      "execution_count": null,
      "metadata": {
        "id": "ORIKAObgaMQ7"
      },
      "outputs": [],
      "source": [
        "df = pd.read_csv('abtest.csv')"
      ]
    },
    {
      "cell_type": "markdown",
      "metadata": {
        "id": "WnqWiys631Ms"
      },
      "source": [
        "## Data Overview"
      ]
    },
    {
      "cell_type": "markdown",
      "metadata": {
        "id": "hsjyu3B133vm"
      },
      "source": [
        "The initial steps to get an overview of any dataset is to: \n",
        "- observe the first few rows of the dataset, to check whether the dataset has been loaded properly or not\n",
        "- get information about the number of rows and columns in the dataset\n",
        "- find out the data types of the columns to ensure that data is stored in the preferred format and the value of each property is as expected.\n",
        "- check the statistical summary of the dataset to get an overview of the numerical columns of the data"
      ]
    },
    {
      "cell_type": "markdown",
      "metadata": {
        "id": "RKxn0uc73665"
      },
      "source": [
        "### Displaying the first few rows of the dataset"
      ]
    },
    {
      "cell_type": "code",
      "execution_count": null,
      "metadata": {
        "colab": {
          "base_uri": "https://localhost:8080/",
          "height": 206
        },
        "id": "E8nshIIgWTSS",
        "outputId": "5a78a1bb-663b-4410-ef4c-ffba66f8a2c1"
      },
      "outputs": [
        {
          "data": {
            "text/html": [
              "<div>\n",
              "<style scoped>\n",
              "    .dataframe tbody tr th:only-of-type {\n",
              "        vertical-align: middle;\n",
              "    }\n",
              "\n",
              "    .dataframe tbody tr th {\n",
              "        vertical-align: top;\n",
              "    }\n",
              "\n",
              "    .dataframe thead th {\n",
              "        text-align: right;\n",
              "    }\n",
              "</style>\n",
              "<table border=\"1\" class=\"dataframe\">\n",
              "  <thead>\n",
              "    <tr style=\"text-align: right;\">\n",
              "      <th></th>\n",
              "      <th>user_id</th>\n",
              "      <th>group</th>\n",
              "      <th>landing_page</th>\n",
              "      <th>time_spent_on_the_page</th>\n",
              "      <th>converted</th>\n",
              "      <th>language_preferred</th>\n",
              "    </tr>\n",
              "  </thead>\n",
              "  <tbody>\n",
              "    <tr>\n",
              "      <th>0</th>\n",
              "      <td>546592</td>\n",
              "      <td>control</td>\n",
              "      <td>old</td>\n",
              "      <td>3.48</td>\n",
              "      <td>no</td>\n",
              "      <td>Spanish</td>\n",
              "    </tr>\n",
              "    <tr>\n",
              "      <th>1</th>\n",
              "      <td>546468</td>\n",
              "      <td>treatment</td>\n",
              "      <td>new</td>\n",
              "      <td>7.13</td>\n",
              "      <td>yes</td>\n",
              "      <td>English</td>\n",
              "    </tr>\n",
              "    <tr>\n",
              "      <th>2</th>\n",
              "      <td>546462</td>\n",
              "      <td>treatment</td>\n",
              "      <td>new</td>\n",
              "      <td>4.40</td>\n",
              "      <td>no</td>\n",
              "      <td>Spanish</td>\n",
              "    </tr>\n",
              "    <tr>\n",
              "      <th>3</th>\n",
              "      <td>546567</td>\n",
              "      <td>control</td>\n",
              "      <td>old</td>\n",
              "      <td>3.02</td>\n",
              "      <td>no</td>\n",
              "      <td>French</td>\n",
              "    </tr>\n",
              "    <tr>\n",
              "      <th>4</th>\n",
              "      <td>546459</td>\n",
              "      <td>treatment</td>\n",
              "      <td>new</td>\n",
              "      <td>4.75</td>\n",
              "      <td>yes</td>\n",
              "      <td>Spanish</td>\n",
              "    </tr>\n",
              "  </tbody>\n",
              "</table>\n",
              "</div>"
            ],
            "text/plain": [
              "   user_id      group landing_page  time_spent_on_the_page converted  \\\n",
              "0   546592    control          old                    3.48        no   \n",
              "1   546468  treatment          new                    7.13       yes   \n",
              "2   546462  treatment          new                    4.40        no   \n",
              "3   546567    control          old                    3.02        no   \n",
              "4   546459  treatment          new                    4.75       yes   \n",
              "\n",
              "  language_preferred  \n",
              "0            Spanish  \n",
              "1            English  \n",
              "2            Spanish  \n",
              "3             French  \n",
              "4            Spanish  "
            ]
          },
          "execution_count": 3,
          "metadata": {},
          "output_type": "execute_result"
        }
      ],
      "source": [
        "df.head()"
      ]
    },
    {
      "cell_type": "markdown",
      "metadata": {
        "id": "3RME3ORG4FN7"
      },
      "source": [
        "### Displaying the last few rows of the dataset"
      ]
    },
    {
      "cell_type": "code",
      "execution_count": null,
      "metadata": {
        "colab": {
          "base_uri": "https://localhost:8080/",
          "height": 206
        },
        "id": "JPsrXY1JWX9v",
        "outputId": "a13e5ca2-7874-4fea-df9c-8e7f647c09dc"
      },
      "outputs": [
        {
          "data": {
            "text/html": [
              "<div>\n",
              "<style scoped>\n",
              "    .dataframe tbody tr th:only-of-type {\n",
              "        vertical-align: middle;\n",
              "    }\n",
              "\n",
              "    .dataframe tbody tr th {\n",
              "        vertical-align: top;\n",
              "    }\n",
              "\n",
              "    .dataframe thead th {\n",
              "        text-align: right;\n",
              "    }\n",
              "</style>\n",
              "<table border=\"1\" class=\"dataframe\">\n",
              "  <thead>\n",
              "    <tr style=\"text-align: right;\">\n",
              "      <th></th>\n",
              "      <th>user_id</th>\n",
              "      <th>group</th>\n",
              "      <th>landing_page</th>\n",
              "      <th>time_spent_on_the_page</th>\n",
              "      <th>converted</th>\n",
              "      <th>language_preferred</th>\n",
              "    </tr>\n",
              "  </thead>\n",
              "  <tbody>\n",
              "    <tr>\n",
              "      <th>95</th>\n",
              "      <td>546446</td>\n",
              "      <td>treatment</td>\n",
              "      <td>new</td>\n",
              "      <td>5.15</td>\n",
              "      <td>no</td>\n",
              "      <td>Spanish</td>\n",
              "    </tr>\n",
              "    <tr>\n",
              "      <th>96</th>\n",
              "      <td>546544</td>\n",
              "      <td>control</td>\n",
              "      <td>old</td>\n",
              "      <td>6.52</td>\n",
              "      <td>yes</td>\n",
              "      <td>English</td>\n",
              "    </tr>\n",
              "    <tr>\n",
              "      <th>97</th>\n",
              "      <td>546472</td>\n",
              "      <td>treatment</td>\n",
              "      <td>new</td>\n",
              "      <td>7.07</td>\n",
              "      <td>yes</td>\n",
              "      <td>Spanish</td>\n",
              "    </tr>\n",
              "    <tr>\n",
              "      <th>98</th>\n",
              "      <td>546481</td>\n",
              "      <td>treatment</td>\n",
              "      <td>new</td>\n",
              "      <td>6.20</td>\n",
              "      <td>yes</td>\n",
              "      <td>Spanish</td>\n",
              "    </tr>\n",
              "    <tr>\n",
              "      <th>99</th>\n",
              "      <td>546483</td>\n",
              "      <td>treatment</td>\n",
              "      <td>new</td>\n",
              "      <td>5.86</td>\n",
              "      <td>yes</td>\n",
              "      <td>English</td>\n",
              "    </tr>\n",
              "  </tbody>\n",
              "</table>\n",
              "</div>"
            ],
            "text/plain": [
              "    user_id      group landing_page  time_spent_on_the_page converted  \\\n",
              "95   546446  treatment          new                    5.15        no   \n",
              "96   546544    control          old                    6.52       yes   \n",
              "97   546472  treatment          new                    7.07       yes   \n",
              "98   546481  treatment          new                    6.20       yes   \n",
              "99   546483  treatment          new                    5.86       yes   \n",
              "\n",
              "   language_preferred  \n",
              "95            Spanish  \n",
              "96            English  \n",
              "97            Spanish  \n",
              "98            Spanish  \n",
              "99            English  "
            ]
          },
          "execution_count": 4,
          "metadata": {},
          "output_type": "execute_result"
        }
      ],
      "source": [
        "df.tail()"
      ]
    },
    {
      "cell_type": "markdown",
      "metadata": {
        "id": "3DeP3JY74fPd"
      },
      "source": [
        "- The dataset has been loaded successfully\n",
        "- It can be observed that except `user_id` and `time_spent_on_the_page`, rest all the variables are categorical in nature"
      ]
    },
    {
      "cell_type": "markdown",
      "metadata": {
        "id": "kNu7sMLs70mx"
      },
      "source": [
        "### Checking the shape of the dataset"
      ]
    },
    {
      "cell_type": "code",
      "execution_count": null,
      "metadata": {
        "colab": {
          "base_uri": "https://localhost:8080/"
        },
        "id": "7uCR2HmrWe7-",
        "outputId": "41deeca5-acaf-4a1a-9a00-f366f253c4d4"
      },
      "outputs": [
        {
          "data": {
            "text/plain": [
              "(100, 6)"
            ]
          },
          "execution_count": 5,
          "metadata": {},
          "output_type": "execute_result"
        }
      ],
      "source": [
        "df.shape"
      ]
    },
    {
      "cell_type": "markdown",
      "metadata": {
        "id": "ed9noM8FWh_x"
      },
      "source": [
        "* The dataset has 100 rows and 6 columns."
      ]
    },
    {
      "cell_type": "markdown",
      "metadata": {
        "id": "inS7KsVt724y"
      },
      "source": [
        "### Checking the data types of the columns for the dataset"
      ]
    },
    {
      "cell_type": "code",
      "execution_count": null,
      "metadata": {
        "colab": {
          "base_uri": "https://localhost:8080/"
        },
        "id": "Sf5a7CqgWn8u",
        "outputId": "b17562b2-a6bb-45d4-c955-440648ce3eaa"
      },
      "outputs": [
        {
          "name": "stdout",
          "output_type": "stream",
          "text": [
            "<class 'pandas.core.frame.DataFrame'>\n",
            "RangeIndex: 100 entries, 0 to 99\n",
            "Data columns (total 6 columns):\n",
            " #   Column                  Non-Null Count  Dtype  \n",
            "---  ------                  --------------  -----  \n",
            " 0   user_id                 100 non-null    int64  \n",
            " 1   group                   100 non-null    object \n",
            " 2   landing_page            100 non-null    object \n",
            " 3   time_spent_on_the_page  100 non-null    float64\n",
            " 4   converted               100 non-null    object \n",
            " 5   language_preferred      100 non-null    object \n",
            "dtypes: float64(1), int64(1), object(4)\n",
            "memory usage: 4.8+ KB\n"
          ]
        }
      ],
      "source": [
        "df.info()"
      ]
    },
    {
      "cell_type": "markdown",
      "metadata": {
        "id": "fOnHABzxQj6Q"
      },
      "source": [
        "* There are a total of 100 non-null observations in each of the columns\n",
        "\n",
        "* There are 6 columns named **'user_id', 'group', 'landing_page', 'time_spent_on_the_page', 'converted', 'language_preferred'** whose data types are **int64, object, object, float64, object, object** respectively\n",
        "\n",
        "\n",
        "* 'group', 'landing_page', 'converted', and 'language_preferred' are objects"
      ]
    },
    {
      "cell_type": "markdown",
      "metadata": {
        "id": "99JkpQZO73Uz"
      },
      "source": [
        "### Getting the statistical summary for the numerical variables"
      ]
    },
    {
      "cell_type": "code",
      "execution_count": null,
      "metadata": {
        "colab": {
          "base_uri": "https://localhost:8080/",
          "height": 112
        },
        "id": "C_WuA23RYkjv",
        "outputId": "9863c178-61ae-4750-dcd9-907a8d4f6ee8"
      },
      "outputs": [
        {
          "data": {
            "text/html": [
              "<div>\n",
              "<style scoped>\n",
              "    .dataframe tbody tr th:only-of-type {\n",
              "        vertical-align: middle;\n",
              "    }\n",
              "\n",
              "    .dataframe tbody tr th {\n",
              "        vertical-align: top;\n",
              "    }\n",
              "\n",
              "    .dataframe thead th {\n",
              "        text-align: right;\n",
              "    }\n",
              "</style>\n",
              "<table border=\"1\" class=\"dataframe\">\n",
              "  <thead>\n",
              "    <tr style=\"text-align: right;\">\n",
              "      <th></th>\n",
              "      <th>count</th>\n",
              "      <th>mean</th>\n",
              "      <th>std</th>\n",
              "      <th>min</th>\n",
              "      <th>25%</th>\n",
              "      <th>50%</th>\n",
              "      <th>75%</th>\n",
              "      <th>max</th>\n",
              "    </tr>\n",
              "  </thead>\n",
              "  <tbody>\n",
              "    <tr>\n",
              "      <th>user_id</th>\n",
              "      <td>100.0</td>\n",
              "      <td>546517.0000</td>\n",
              "      <td>52.295779</td>\n",
              "      <td>546443.00</td>\n",
              "      <td>546467.75</td>\n",
              "      <td>546492.500</td>\n",
              "      <td>546567.2500</td>\n",
              "      <td>546592.00</td>\n",
              "    </tr>\n",
              "    <tr>\n",
              "      <th>time_spent_on_the_page</th>\n",
              "      <td>100.0</td>\n",
              "      <td>5.3778</td>\n",
              "      <td>2.378166</td>\n",
              "      <td>0.19</td>\n",
              "      <td>3.88</td>\n",
              "      <td>5.415</td>\n",
              "      <td>7.0225</td>\n",
              "      <td>10.71</td>\n",
              "    </tr>\n",
              "  </tbody>\n",
              "</table>\n",
              "</div>"
            ],
            "text/plain": [
              "                        count         mean        std        min        25%  \\\n",
              "user_id                 100.0  546517.0000  52.295779  546443.00  546467.75   \n",
              "time_spent_on_the_page  100.0       5.3778   2.378166       0.19       3.88   \n",
              "\n",
              "                               50%          75%        max  \n",
              "user_id                 546492.500  546567.2500  546592.00  \n",
              "time_spent_on_the_page       5.415       7.0225      10.71  "
            ]
          },
          "execution_count": 7,
          "metadata": {},
          "output_type": "execute_result"
        }
      ],
      "source": [
        "df.describe().T"
      ]
    },
    {
      "cell_type": "markdown",
      "metadata": {
        "id": "cJE-xbCcYnkg"
      },
      "source": [
        "* The user_id column contains the user ID of the person visiting the page.\n",
        "* The maximum time spent on the landing page is less than 11 minutes.\n",
        "* The mean time spent on the landing page is approximately 5.4 minutes.\n",
        "* The median time spent on the landing page is approximately 5.4 minutes."
      ]
    },
    {
      "cell_type": "markdown",
      "metadata": {
        "id": "XTdb30lb9M65"
      },
      "source": [
        "### Getting the statistical summary for the categorical variables"
      ]
    },
    {
      "cell_type": "code",
      "execution_count": null,
      "metadata": {
        "colab": {
          "base_uri": "https://localhost:8080/",
          "height": 175
        },
        "id": "OhKdD77oYuNH",
        "outputId": "2d442daf-8aa6-4262-d516-4a8f7b0b7233"
      },
      "outputs": [
        {
          "data": {
            "text/html": [
              "<div>\n",
              "<style scoped>\n",
              "    .dataframe tbody tr th:only-of-type {\n",
              "        vertical-align: middle;\n",
              "    }\n",
              "\n",
              "    .dataframe tbody tr th {\n",
              "        vertical-align: top;\n",
              "    }\n",
              "\n",
              "    .dataframe thead th {\n",
              "        text-align: right;\n",
              "    }\n",
              "</style>\n",
              "<table border=\"1\" class=\"dataframe\">\n",
              "  <thead>\n",
              "    <tr style=\"text-align: right;\">\n",
              "      <th></th>\n",
              "      <th>count</th>\n",
              "      <th>unique</th>\n",
              "      <th>top</th>\n",
              "      <th>freq</th>\n",
              "    </tr>\n",
              "  </thead>\n",
              "  <tbody>\n",
              "    <tr>\n",
              "      <th>group</th>\n",
              "      <td>100</td>\n",
              "      <td>2</td>\n",
              "      <td>treatment</td>\n",
              "      <td>50</td>\n",
              "    </tr>\n",
              "    <tr>\n",
              "      <th>landing_page</th>\n",
              "      <td>100</td>\n",
              "      <td>2</td>\n",
              "      <td>new</td>\n",
              "      <td>50</td>\n",
              "    </tr>\n",
              "    <tr>\n",
              "      <th>converted</th>\n",
              "      <td>100</td>\n",
              "      <td>2</td>\n",
              "      <td>yes</td>\n",
              "      <td>54</td>\n",
              "    </tr>\n",
              "    <tr>\n",
              "      <th>language_preferred</th>\n",
              "      <td>100</td>\n",
              "      <td>3</td>\n",
              "      <td>French</td>\n",
              "      <td>34</td>\n",
              "    </tr>\n",
              "  </tbody>\n",
              "</table>\n",
              "</div>"
            ],
            "text/plain": [
              "                   count unique        top freq\n",
              "group                100      2  treatment   50\n",
              "landing_page         100      2        new   50\n",
              "converted            100      2        yes   54\n",
              "language_preferred   100      3     French   34"
            ]
          },
          "execution_count": 8,
          "metadata": {},
          "output_type": "execute_result"
        }
      ],
      "source": [
        "df.describe(include = ['object']).T"
      ]
    },
    {
      "cell_type": "markdown",
      "metadata": {
        "id": "ZmcHypGA-Lb8"
      },
      "source": [
        "- Variables `group`, `landing_page` and `converted` have only two categories\n",
        "- It can be observed that the distribution of users in `group` and `landing_page` are equal\n",
        "- More than 50% of users are converted \n",
        "- There are three categories of languages preferred by users, among which Spanish has been preferred the most by users."
      ]
    },
    {
      "cell_type": "markdown",
      "metadata": {
        "id": "4uJNS_5QYQPp"
      },
      "source": [
        "### Check for missing values"
      ]
    },
    {
      "cell_type": "code",
      "execution_count": null,
      "metadata": {
        "colab": {
          "base_uri": "https://localhost:8080/"
        },
        "id": "UWP1fTeFYPR6",
        "outputId": "69634bd6-d684-40f8-dee0-6ad8a3657207"
      },
      "outputs": [
        {
          "data": {
            "text/plain": [
              "user_id                   0\n",
              "group                     0\n",
              "landing_page              0\n",
              "time_spent_on_the_page    0\n",
              "converted                 0\n",
              "language_preferred        0\n",
              "dtype: int64"
            ]
          },
          "execution_count": 9,
          "metadata": {},
          "output_type": "execute_result"
        }
      ],
      "source": [
        "# missing value check\n",
        "df.isna().sum()"
      ]
    },
    {
      "cell_type": "markdown",
      "metadata": {
        "id": "o6URJp5SYW5w"
      },
      "source": [
        "* There are no missing values in any of the columns"
      ]
    },
    {
      "cell_type": "markdown",
      "metadata": {
        "id": "wKuSrs67zZ81"
      },
      "source": [
        "### Check for duplicate values"
      ]
    },
    {
      "cell_type": "code",
      "execution_count": null,
      "metadata": {
        "colab": {
          "base_uri": "https://localhost:8080/"
        },
        "id": "j3xQe3EOzZ81",
        "outputId": "f3bdeec8-7bdc-4788-acf5-2c94bb3cd573"
      },
      "outputs": [
        {
          "data": {
            "text/plain": [
              "0"
            ]
          },
          "execution_count": 10,
          "metadata": {},
          "output_type": "execute_result"
        }
      ],
      "source": [
        "df.duplicated().sum()"
      ]
    },
    {
      "cell_type": "markdown",
      "metadata": {
        "id": "9jhGNp_4zZ82"
      },
      "source": [
        "* There are no duplicated entries in the dataset"
      ]
    },
    {
      "cell_type": "markdown",
      "metadata": {
        "id": "RGeFn6e8AdsC"
      },
      "source": [
        "## Exploratory Data Analysis"
      ]
    },
    {
      "cell_type": "markdown",
      "metadata": {
        "id": "6-ibd3yLNBfb"
      },
      "source": [
        "### Univariate Analysis"
      ]
    },
    {
      "cell_type": "markdown",
      "metadata": {
        "id": "WuYBf5-pAgdj"
      },
      "source": [
        "Let us first explore the numerical variables"
      ]
    },
    {
      "cell_type": "markdown",
      "metadata": {
        "id": "M1MZuptcN5gy"
      },
      "source": [
        "#### Time spent on the page"
      ]
    },
    {
      "cell_type": "code",
      "execution_count": null,
      "metadata": {
        "colab": {
          "base_uri": "https://localhost:8080/",
          "height": 543
        },
        "id": "1vqaqrp7Avec",
        "outputId": "0b06f159-39b3-4a8d-9ebe-b05c28c582af"
      },
      "outputs": [
        {
          "data": {
            "image/png": "[encoded data removed]",
            "text/plain": [
              "<Figure size 432x288 with 1 Axes>"
            ]
          },
          "metadata": {
            "needs_background": "light"
          },
          "output_type": "display_data"
        },
        {
          "data": {
            "image/png": "[encoded data removed]",
            "text/plain": [
              "<Figure size 432x288 with 1 Axes>"
            ]
          },
          "metadata": {
            "needs_background": "light"
          },
          "output_type": "display_data"
        }
      ],
      "source": [
        "sns.histplot(data=df,x='time_spent_on_the_page')\n",
        "plt.show()\n",
        "sns.boxplot(data=df,x='time_spent_on_the_page')\n",
        "plt.show()"
      ]
    },
    {
      "cell_type": "markdown",
      "metadata": {
        "id": "969NLf2QNd6P"
      },
      "source": [
        "* The time spent on the page seems to have a fairly normal distribution.\n",
        "* There are no outliers in this column."
      ]
    },
    {
      "cell_type": "markdown",
      "metadata": {
        "id": "4jDBoxnmA7Hm"
      },
      "source": [
        "Let us now explore the categorical variables"
      ]
    },
    {
      "cell_type": "markdown",
      "metadata": {
        "id": "u5PXu0liOB-1"
      },
      "source": [
        "#### Group"
      ]
    },
    {
      "cell_type": "code",
      "execution_count": null,
      "metadata": {
        "colab": {
          "base_uri": "https://localhost:8080/"
        },
        "id": "9HZsw_k4ttHO",
        "outputId": "444b8d1c-8026-4229-8a96-42cde608d870"
      },
      "outputs": [
        {
          "data": {
            "text/plain": [
              "treatment    50\n",
              "control      50\n",
              "Name: group, dtype: int64"
            ]
          },
          "execution_count": 12,
          "metadata": {},
          "output_type": "execute_result"
        }
      ],
      "source": [
        "df['group'].value_counts()"
      ]
    },
    {
      "cell_type": "code",
      "execution_count": null,
      "metadata": {
        "colab": {
          "base_uri": "https://localhost:8080/",
          "height": 279
        },
        "id": "OOFk7BHrBCsR",
        "outputId": "93d898cd-42d8-4750-f3ed-5e354265f459"
      },
      "outputs": [
        {
          "data": {
            "image/png": "[encoded data removed]",
            "text/plain": [
              "<Figure size 432x288 with 1 Axes>"
            ]
          },
          "metadata": {
            "needs_background": "light"
          },
          "output_type": "display_data"
        }
      ],
      "source": [
        "sns.countplot(data=df,x='group')\n",
        "plt.show()"
      ]
    },
    {
      "cell_type": "markdown",
      "metadata": {
        "id": "iu4kyhN9OT5F"
      },
      "source": [
        "* The distribution of the number of users across the two groups are the same"
      ]
    },
    {
      "cell_type": "markdown",
      "metadata": {
        "id": "bBleYenwOXgm"
      },
      "source": [
        "#### Landing page"
      ]
    },
    {
      "cell_type": "code",
      "execution_count": null,
      "metadata": {
        "colab": {
          "base_uri": "https://localhost:8080/"
        },
        "id": "m_MUXfW3L6kh",
        "outputId": "c85dc4be-8529-4bb1-d8fd-7a06dd435b49"
      },
      "outputs": [
        {
          "data": {
            "text/plain": [
              "new    50\n",
              "old    50\n",
              "Name: landing_page, dtype: int64"
            ]
          },
          "execution_count": 14,
          "metadata": {},
          "output_type": "execute_result"
        }
      ],
      "source": [
        "df['landing_page'].value_counts()"
      ]
    },
    {
      "cell_type": "code",
      "execution_count": null,
      "metadata": {
        "colab": {
          "base_uri": "https://localhost:8080/",
          "height": 280
        },
        "id": "cePewW1FzZ87",
        "outputId": "725b9cb1-998c-4688-a1b6-da8164e58009"
      },
      "outputs": [
        {
          "data": {
            "image/png": "[encoded data removed]",
            "text/plain": [
              "<Figure size 432x288 with 1 Axes>"
            ]
          },
          "metadata": {
            "needs_background": "light"
          },
          "output_type": "display_data"
        }
      ],
      "source": [
        "sns.countplot(data=df,x='landing_page')\n",
        "plt.show()"
      ]
    },
    {
      "cell_type": "markdown",
      "metadata": {
        "id": "YtilQ1V_Omm-"
      },
      "source": [
        "* The distribution of the number of users across the two landing pages are the same."
      ]
    },
    {
      "cell_type": "markdown",
      "metadata": {
        "id": "7Iq5zEX_OrCC"
      },
      "source": [
        "#### Converted"
      ]
    },
    {
      "cell_type": "code",
      "execution_count": null,
      "metadata": {
        "colab": {
          "base_uri": "https://localhost:8080/"
        },
        "id": "ZSL3tclkMM8V",
        "outputId": "fbbf6da6-5631-423f-af33-938a71ce5b72"
      },
      "outputs": [
        {
          "data": {
            "text/plain": [
              "yes    54\n",
              "no     46\n",
              "Name: converted, dtype: int64"
            ]
          },
          "execution_count": 16,
          "metadata": {},
          "output_type": "execute_result"
        }
      ],
      "source": [
        "df['converted'].value_counts()"
      ]
    },
    {
      "cell_type": "code",
      "execution_count": null,
      "metadata": {
        "colab": {
          "base_uri": "https://localhost:8080/",
          "height": 279
        },
        "id": "9VfkLvLczZ87",
        "outputId": "5744100f-5f72-4ddd-a9f4-766508c5f422"
      },
      "outputs": [
        {
          "data": {
            "image/png": "[encoded data removed]",
            "text/plain": [
              "<Figure size 432x288 with 1 Axes>"
            ]
          },
          "metadata": {
            "needs_background": "light"
          },
          "output_type": "display_data"
        }
      ],
      "source": [
        "sns.countplot(data=df,x='converted')\n",
        "plt.show()"
      ]
    },
    {
      "cell_type": "markdown",
      "metadata": {
        "id": "X6qfwlmyO7U3"
      },
      "source": [
        "- Overall, 54 users get converted and 46 users do not get converted after visiting the landing page"
      ]
    },
    {
      "cell_type": "markdown",
      "metadata": {
        "id": "jOPoPOMxPJdF"
      },
      "source": [
        "#### Preferred language"
      ]
    },
    {
      "cell_type": "code",
      "execution_count": null,
      "metadata": {
        "colab": {
          "base_uri": "https://localhost:8080/"
        },
        "id": "8J2VXXhoMtlc",
        "outputId": "cec3478d-8187-4944-a3f8-8dd8e5ed824d"
      },
      "outputs": [
        {
          "data": {
            "text/plain": [
              "French     34\n",
              "Spanish    34\n",
              "English    32\n",
              "Name: language_preferred, dtype: int64"
            ]
          },
          "execution_count": 18,
          "metadata": {},
          "output_type": "execute_result"
        }
      ],
      "source": [
        "df['language_preferred'].value_counts()"
      ]
    },
    {
      "cell_type": "code",
      "execution_count": null,
      "metadata": {
        "colab": {
          "base_uri": "https://localhost:8080/",
          "height": 280
        },
        "id": "e7GPFV-lzZ88",
        "outputId": "9f67ae6b-ff14-4bdd-ae3d-db238bc14617"
      },
      "outputs": [
        {
          "data": {
            "image/png": "[encoded data removed]",
            "text/plain": [
              "<Figure size 432x288 with 1 Axes>"
            ]
          },
          "metadata": {
            "needs_background": "light"
          },
          "output_type": "display_data"
        }
      ],
      "source": [
        "sns.countplot(data=df,x='language_preferred')\n",
        "plt.show()"
      ]
    },
    {
      "cell_type": "markdown",
      "metadata": {
        "id": "BuSfDQnPPYYR"
      },
      "source": [
        "- The distribution of the number of users across various preferred languages is fairly uniform\n",
        "- There are 3 unique preferred languages - English, French, and Spanish. \n",
        "<br> Spanish and French both have been equally and mostly preferred by users"
      ]
    },
    {
      "cell_type": "markdown",
      "metadata": {
        "id": "ZhVuH6lCPui8"
      },
      "source": [
        "### Bivariate Analysis"
      ]
    },
    {
      "cell_type": "markdown",
      "metadata": {
        "id": "u0GpnHwJT7BL"
      },
      "source": [
        "#### Landing page vs Time spent on the page"
      ]
    },
    {
      "cell_type": "code",
      "execution_count": null,
      "metadata": {
        "colab": {
          "base_uri": "https://localhost:8080/"
        },
        "id": "8H_ZoSewzZ88",
        "outputId": "cddcac18-873a-4722-dcb8-e63e6f8193c0"
      },
      "outputs": [
        {
          "data": {
            "image/png": "[encoded data removed]",
            "text/plain": [
              "<Figure size 720x432 with 1 Axes>"
            ]
          },
          "metadata": {
            "needs_background": "light"
          },
          "output_type": "display_data"
        }
      ],
      "source": [
        "plt.figure(figsize=(10,6))\n",
        "sns.boxplot(data=df,x='landing_page',y='time_spent_on_the_page')\n",
        "plt.show()"
      ]
    },
    {
      "cell_type": "markdown",
      "metadata": {
        "id": "dMoRB8KvWbi4"
      },
      "source": [
        "* Overall, the time spent on the new page seems to be greater than the time spent on the old page."
      ]
    },
    {
      "cell_type": "markdown",
      "metadata": {
        "id": "lW5_KzOPVeEg"
      },
      "source": [
        "#### Conversion status vs Time spent on the page"
      ]
    },
    {
      "cell_type": "code",
      "execution_count": null,
      "metadata": {
        "colab": {
          "base_uri": "https://localhost:8080/"
        },
        "id": "QXSbhJ6FzZ89",
        "outputId": "6ff7db2d-5965-4715-b47f-197ca58b2475"
      },
      "outputs": [
        {
          "data": {
            "image/png": "[encoded data removed]",
            "text/plain": [
              "<Figure size 720x432 with 1 Axes>"
            ]
          },
          "metadata": {
            "needs_background": "light"
          },
          "output_type": "display_data"
        }
      ],
      "source": [
        "plt.figure(figsize=(10,6))\n",
        "sns.boxplot(data=df,x='converted',y='time_spent_on_the_page')\n",
        "plt.show()"
      ]
    },
    {
      "cell_type": "markdown",
      "metadata": {
        "id": "rzMHix_UWqSh"
      },
      "source": [
        "* Overall, the users who get converted seem to spend more time on the page. "
      ]
    },
    {
      "cell_type": "markdown",
      "metadata": {
        "id": "uEycP66dVvt9"
      },
      "source": [
        "#### Preferred language vs Time spent on the page"
      ]
    },
    {
      "cell_type": "code",
      "execution_count": null,
      "metadata": {
        "colab": {
          "base_uri": "https://localhost:8080/"
        },
        "id": "__cxc_olV3K-",
        "outputId": "2418f8a4-44c2-4730-d360-d319cb96f7af",
        "scrolled": false
      },
      "outputs": [
        {
          "data": {
            "image/png": "[encoded data removed]",
            "text/plain": [
              "<Figure size 576x576 with 1 Axes>"
            ]
          },
          "metadata": {
            "needs_background": "light"
          },
          "output_type": "display_data"
        }
      ],
      "source": [
        "plt.figure(figsize=(8,8))\n",
        "sns.boxplot(x = 'language_preferred', y = 'time_spent_on_the_page', showmeans = True, data = df)\n",
        "plt.show()"
      ]
    },
    {
      "cell_type": "markdown",
      "metadata": {
        "id": "3wJhf6wfzZ8-"
      },
      "source": [
        "* The median time spent by the different language users are approximately equal.\n",
        "* The mean time spent by the different language users are approximately equal."
      ]
    },
    {
      "cell_type": "markdown",
      "metadata": {
        "id": "eUHR4RKcS-1n"
      },
      "source": [
        "## 1. Do the users spend more time on the new landing page than the existing landing page?"
      ]
    },
    {
      "cell_type": "markdown",
      "metadata": {
        "id": "mCPmZffB6b3I"
      },
      "source": [
        "### Perform Visual Analysis"
      ]
    },
    {
      "cell_type": "code",
      "execution_count": null,
      "metadata": {
        "colab": {
          "base_uri": "https://localhost:8080/",
          "height": 389
        },
        "id": "w5uw-NhRidnJ",
        "outputId": "9a4ce967-4611-4657-f253-591a344ed186"
      },
      "outputs": [
        {
          "data": {
            "image/png": "[encoded data removed]",
            "text/plain": [
              "<Figure size 576x432 with 1 Axes>"
            ]
          },
          "metadata": {
            "needs_background": "light"
          },
          "output_type": "display_data"
        }
      ],
      "source": [
        "# visual analysis of the time spent by users on the new and old landing pages\n",
        "plt.figure(figsize=(8,6))\n",
        "sns.boxplot(x = 'landing_page', y = 'time_spent_on_the_page', data = df)\n",
        "plt.show()"
      ]
    },
    {
      "cell_type": "markdown",
      "metadata": {
        "id": "aoBTMWdoi4OS"
      },
      "source": [
        "* We see that people spent more time on the new page than the old landing page"
      ]
    },
    {
      "cell_type": "markdown",
      "metadata": {
        "id": "lNSfEjfU6nl4"
      },
      "source": [
        "Let's perform a hypothesis test to see if there is enough statistical evidence to support our observation."
      ]
    },
    {
      "cell_type": "markdown",
      "metadata": {
        "id": "YFZ5crNSi5U1"
      },
      "source": [
        "### Step 1: Define the null and alternative hypotheses"
      ]
    },
    {
      "cell_type": "markdown",
      "metadata": {
        "id": "Kw8CF404i8eF"
      },
      "source": [
        "> $H_0:$ The mean time spent by the users on the new page is equal to the mean time spent by the users on the old page. <br>\n",
        "$H_a:$ The mean time spent by the users on the new page is greater than the mean time spent by the users on the old page.\n",
        "\n",
        "Let $\\mu_1$ and $\\mu_2$ be the mean time spent by the users on the new and old page respectively. Then the above formulated hypotheses can be mathematically written as:\n",
        "\n",
        "> $H_0: \\mu_1 = \\mu_2 \\\\\n",
        "H_a: \\mu_1 > \\mu_2$"
      ]
    },
    {
      "cell_type": "markdown",
      "metadata": {
        "id": "g6hywdn5jBnU"
      },
      "source": [
        "### Step 2: Select Appropriate test"
      ]
    },
    {
      "cell_type": "markdown",
      "metadata": {
        "id": "TYnC6dvljEv7"
      },
      "source": [
        "This is a one-tailed test concerning two population means from two independent populations. As the population standard deviations are unknown, the two sample independent t-test will be the appropriate test for this problem."
      ]
    },
    {
      "cell_type": "markdown",
      "metadata": {
        "id": "nTSD1L19jLCF"
      },
      "source": [
        "### Step 3: Decide the significance level"
      ]
    },
    {
      "cell_type": "markdown",
      "metadata": {
        "id": "m7s-JSnijNWQ"
      },
      "source": [
        "As given in the problem statement, we select α = 0.05."
      ]
    },
    {
      "cell_type": "markdown",
      "metadata": {
        "id": "KGvA4D8djPxk"
      },
      "source": [
        "### Step 4: Collect and prepare data"
      ]
    },
    {
      "cell_type": "code",
      "execution_count": null,
      "metadata": {
        "id": "o7Yavz0mjToU"
      },
      "outputs": [],
      "source": [
        "time_spent_new = df[df['landing_page'] == 'new']['time_spent_on_the_page']\n",
        "time_spent_old = df[df['landing_page'] == 'old']['time_spent_on_the_page']"
      ]
    },
    {
      "cell_type": "code",
      "execution_count": null,
      "metadata": {
        "colab": {
          "base_uri": "https://localhost:8080/"
        },
        "id": "QivaDmDsS-N1",
        "outputId": "728cc47a-2533-40bb-e736-aaa5f27696c3"
      },
      "outputs": [
        {
          "name": "stdout",
          "output_type": "stream",
          "text": [
            "The sample standard deviation of the time spent on the new page is: 1.82\n",
            "The sample standard deviation of the time spent on the new page is: 2.58\n"
          ]
        }
      ],
      "source": [
        "print('The sample standard deviation of the time spent on the new page is:', round(time_spent_new.std(),2))\n",
        "print('The sample standard deviation of the time spent on the new page is:', round(time_spent_old.std(),2))"
      ]
    },
    {
      "cell_type": "markdown",
      "metadata": {
        "id": "sOAf6WyEpQ44"
      },
      "source": [
        "As the sample standard deviations are different, the population standard deviations may be assumed to be different."
      ]
    },
    {
      "cell_type": "markdown",
      "metadata": {
        "id": "xQeZl8HnpdkX"
      },
      "source": [
        "### Step 5: Calculate the p-value"
      ]
    },
    {
      "cell_type": "code",
      "execution_count": null,
      "metadata": {
        "colab": {
          "base_uri": "https://localhost:8080/"
        },
        "id": "2xuXP2lTpgXk",
        "outputId": "e1624b18-89d0-4de0-df8c-46721f568fd5"
      },
      "outputs": [
        {
          "name": "stdout",
          "output_type": "stream",
          "text": [
            "The p-value is 0.0001392381225166549\n"
          ]
        }
      ],
      "source": [
        "# import the required function\n",
        "from scipy.stats import ttest_ind\n",
        "# find the p-value\n",
        "test_stat, p_value = ttest_ind(time_spent_new, time_spent_old, equal_var = False, alternative = 'greater')\n",
        "print('The p-value is', p_value)"
      ]
    },
    {
      "cell_type": "markdown",
      "metadata": {
        "id": "iWCpBC5UqSi6"
      },
      "source": [
        "### Step 6: Compare the p-value with $\\alpha$"
      ]
    },
    {
      "cell_type": "code",
      "execution_count": null,
      "metadata": {
        "colab": {
          "base_uri": "https://localhost:8080/"
        },
        "id": "J9764LVtqTUh",
        "outputId": "ded9941d-cdd2-4cf0-95ff-23947307f302"
      },
      "outputs": [
        {
          "name": "stdout",
          "output_type": "stream",
          "text": [
            "As the p-value 0.0001392381225166549 is less than the level of significance, we reject the null hypothesis.\n"
          ]
        }
      ],
      "source": [
        "# print the conclusion based on p-value\n",
        "if p_value < 0.05:\n",
        "    print(f'As the p-value {p_value} is less than the level of significance, we reject the null hypothesis.')\n",
        "else:\n",
        "    print(f'As the p-value {p_value} is greater than the level of significance, we fail to reject the null hypothesis.')"
      ]
    },
    {
      "cell_type": "markdown",
      "metadata": {
        "id": "9wLO61tvqV3L"
      },
      "source": [
        "### Step 7:  Draw inference"
      ]
    },
    {
      "cell_type": "markdown",
      "metadata": {
        "id": "-E87MFG6qdGx"
      },
      "source": [
        "Since the p-value is less than the 5% significance level, we reject the null hypothesis. Hence, we have enough statistical evidence to say that the mean time spent by the users on the new page is greater than the mean time spent by the users on the old page."
      ]
    },
    {
      "cell_type": "markdown",
      "metadata": {
        "id": "ByMi2Yd5TGS_"
      },
      "source": [
        "## 2. Is the conversion rate (the proportion of users who visit the landing page and get converted) for the new page greater than the conversion rate for the old page?"
      ]
    },
    {
      "cell_type": "markdown",
      "metadata": {
        "id": "AaUWbgaySd8s"
      },
      "source": [
        "### Perform Visual Analysis"
      ]
    },
    {
      "cell_type": "code",
      "execution_count": null,
      "metadata": {
        "colab": {
          "base_uri": "https://localhost:8080/",
          "height": 504
        },
        "id": "kawWbn9mq5Iv",
        "outputId": "2b254e94-c88b-4839-dabe-af1b54e6bdda"
      },
      "outputs": [
        {
          "data": {
            "image/png": "[encoded data removed]",
            "text/plain": [
              "<Figure size 432x576 with 1 Axes>"
            ]
          },
          "metadata": {
            "needs_background": "light"
          },
          "output_type": "display_data"
        }
      ],
      "source": [
        "# visual analysis of the conversion rate for the new page and the conversion rate for the old page\n",
        "pd.crosstab(df['converted'],df['landing_page'],normalize='index').plot(kind=\"bar\", figsize=(6,8),stacked=True)\n",
        "plt.legend()\n",
        "plt.show()"
      ]
    },
    {
      "cell_type": "markdown",
      "metadata": {
        "id": "aV8ruqGXXc_4"
      },
      "source": [
        "By observing the above plot, we can say that overall the number of users who get converted is more for the new page than the old page. Let's perform a hypothesis test to see if there is enough statistical evidence to say that the conversion rate for the new page is greater than the old page."
      ]
    },
    {
      "cell_type": "markdown",
      "metadata": {
        "id": "3ITqSVzLq3Dr"
      },
      "source": [
        "### Step 1: Define the null and alternative hypotheses"
      ]
    },
    {
      "cell_type": "markdown",
      "metadata": {
        "id": "2mLWHORSq5wO"
      },
      "source": [
        "> $H_0:$ The conversion rate for the new page is equal to the conversion rate for the old page. <br>\n",
        "$H_a:$ The conversion rate for the new page is greater than the conversion rate for the old page.\n",
        "\n",
        "Let $p_1$ and $p_2$ be the conversion rate for the new and old page respectively.\n",
        "\n",
        "Mathematically, the above formulated hypotheses can be written as:\n",
        "\n",
        "> $H_0: p_1 = p_2 \\\\\n",
        "H_a: p_1 > p_2$"
      ]
    },
    {
      "cell_type": "markdown",
      "metadata": {
        "id": "nB4clAqOq7yS"
      },
      "source": [
        "### Step 2: Select Appropriate test"
      ]
    },
    {
      "cell_type": "markdown",
      "metadata": {
        "id": "9od66KJlq_AO"
      },
      "source": [
        "This is a one-tailed test concerning two population proportions from two independent populations. Hence, the two-sample proportion z-test will be the appropriate test for this problem."
      ]
    },
    {
      "cell_type": "markdown",
      "metadata": {
        "id": "rNOl-HdvrB0L"
      },
      "source": [
        "### Step 3: Decide the significance level"
      ]
    },
    {
      "cell_type": "markdown",
      "metadata": {
        "id": "jrUtEJB1rDsz"
      },
      "source": [
        "As given in the problem statement, we select α = 0.05."
      ]
    },
    {
      "cell_type": "markdown",
      "metadata": {
        "id": "tQFN0Z_SrFxh"
      },
      "source": [
        "### Step 4: Collect and prepare data"
      ]
    },
    {
      "cell_type": "code",
      "execution_count": null,
      "metadata": {
        "colab": {
          "base_uri": "https://localhost:8080/"
        },
        "id": "dEs9-0wurO1c",
        "outputId": "896fcede-b994-410a-f284-0f071b1bbbb1"
      },
      "outputs": [
        {
          "name": "stdout",
          "output_type": "stream",
          "text": [
            "The numbers of converted users for the new and old pages are 33 and 21 respectively\n",
            "The numbers of users served the new and old pages are 50 and 50 respectively\n"
          ]
        }
      ],
      "source": [
        "new_converted = df[df['group'] == 'treatment']['converted'].value_counts()['yes']\n",
        "old_converted = df[df['group'] == 'control']['converted'].value_counts()['yes']\n",
        "print('The numbers of converted users for the new and old pages are {0} and {1} respectively'.format(new_converted, old_converted))\n",
        "n_control = df.group.value_counts()['control'] # number of users in the control group\n",
        "n_treatment = df.group.value_counts()['treatment'] #number of users in the treatment group\n",
        "print('The numbers of users served the new and old pages are {0} and {1} respectively'.format(n_control, n_treatment ))"
      ]
    },
    {
      "cell_type": "markdown",
      "metadata": {
        "id": "GOy1LU6IrQXR"
      },
      "source": [
        "### Step 5: Calculate the p-value"
      ]
    },
    {
      "cell_type": "code",
      "execution_count": null,
      "metadata": {
        "colab": {
          "base_uri": "https://localhost:8080/"
        },
        "id": "OjCPM5vIrSax",
        "outputId": "18c3df8f-de19-4ca3-c05e-02a6a5f021c3"
      },
      "outputs": [
        {
          "name": "stdout",
          "output_type": "stream",
          "text": [
            "The p-value is 0.008026308204056278\n"
          ]
        }
      ],
      "source": [
        "# import the required function\n",
        "from statsmodels.stats.proportion import proportions_ztest\n",
        "\n",
        "# find the p-value\n",
        "test_stat, p_value = proportions_ztest([new_converted, old_converted] , [n_treatment, n_control], alternative = 'larger')\n",
        "print('The p-value is', p_value)"
      ]
    },
    {
      "cell_type": "markdown",
      "metadata": {
        "id": "n9Nr8KoArbNA"
      },
      "source": [
        "### Step 6: Compare the p-value with $\\alpha$"
      ]
    },
    {
      "cell_type": "code",
      "execution_count": null,
      "metadata": {
        "colab": {
          "base_uri": "https://localhost:8080/"
        },
        "id": "WlCPEPCvreZS",
        "outputId": "70611ff1-006e-48b4-e7a2-fc2cdf315ee9"
      },
      "outputs": [
        {
          "name": "stdout",
          "output_type": "stream",
          "text": [
            "As the p-value 0.008026308204056278 is less than the level of significance, we reject the null hypothesis.\n"
          ]
        }
      ],
      "source": [
        "# print the conclusion based on p-value\n",
        "if p_value < 0.05:\n",
        "    print(f'As the p-value {p_value} is less than the level of significance, we reject the null hypothesis.')\n",
        "else:\n",
        "    print(f'As the p-value {p_value} is greater than the level of significance, we fail to reject the null hypothesis.')"
      ]
    },
    {
      "cell_type": "markdown",
      "metadata": {
        "id": "OlN5l8s-rgbs"
      },
      "source": [
        "### Step 7:  Draw inference"
      ]
    },
    {
      "cell_type": "markdown",
      "metadata": {
        "id": "3bErES7hrlDk"
      },
      "source": [
        "Since the p-value is less than the 5% significance level, we reject the null hypothesis. Hence, we have enough statistical evidence to say that the conversion rate for the new page is greater than the conversion rate for the old page."
      ]
    },
    {
      "cell_type": "markdown",
      "metadata": {
        "id": "E_zGye-Kbbie"
      },
      "source": [
        "## 3. Is the conversion and preferred language are independent or related?"
      ]
    },
    {
      "cell_type": "markdown",
      "metadata": {
        "id": "JrHobiKJS4_g"
      },
      "source": [
        "### Perform Visual Analysis"
      ]
    },
    {
      "cell_type": "code",
      "execution_count": null,
      "metadata": {
        "colab": {
          "base_uri": "https://localhost:8080/",
          "height": 504
        },
        "id": "Jo4danLzbk3c",
        "outputId": "d36faa8e-cf4c-4829-8e44-347ac26f0bd6"
      },
      "outputs": [
        {
          "data": {
            "image/png": "[encoded data removed]",
            "text/plain": [
              "<Figure size 432x576 with 1 Axes>"
            ]
          },
          "metadata": {
            "needs_background": "light"
          },
          "output_type": "display_data"
        }
      ],
      "source": [
        "# visual analysis of the dependency between conversion status and preferred langauge\n",
        "pd.crosstab(df['converted'],df['language_preferred'],normalize='index').plot(kind=\"bar\", figsize=(6,8),\n",
        "                 stacked=True)\n",
        "plt.legend()\n",
        "plt.show()"
      ]
    },
    {
      "cell_type": "markdown",
      "metadata": {
        "id": "W5anW_cKYKLU"
      },
      "source": [
        "The distribution of conversion status for English and French language users is not uniformly distributed. Let's perform the hypothesis test to check whether we have enough statistical evidence to say that the conversion status and preferred language are independent or not."
      ]
    },
    {
      "cell_type": "markdown",
      "metadata": {
        "id": "8byrkc6hrvf-"
      },
      "source": [
        "### Step 1: Define the null and alternative hypotheses"
      ]
    },
    {
      "cell_type": "markdown",
      "metadata": {
        "id": "LSGu3A_MrxPK"
      },
      "source": [
        "> $H_0:$ The converted status is independent of the preferred language. <br>\n",
        "$H_a:$ The converted status is not independent of the preferred language."
      ]
    },
    {
      "cell_type": "markdown",
      "metadata": {
        "id": "Rwi5vIQdry3W"
      },
      "source": [
        "### Step 2: Select Appropriate test"
      ]
    },
    {
      "cell_type": "markdown",
      "metadata": {
        "id": "LJ8IC5lrr0qT"
      },
      "source": [
        "This is a problem of Chi-square test of independence, concerning the two independent categorical variables, converted status and preferred language."
      ]
    },
    {
      "cell_type": "markdown",
      "metadata": {
        "id": "H5Qyv0Mgr2Yb"
      },
      "source": [
        "### Step 3: Decide the significance level"
      ]
    },
    {
      "cell_type": "markdown",
      "metadata": {
        "id": "d5HLJ2KGr4DY"
      },
      "source": [
        "As given in the problem statement, we select α = 0.05."
      ]
    },
    {
      "cell_type": "markdown",
      "metadata": {
        "id": "anSFGxlCr514"
      },
      "source": [
        "### Step 4: Collect and prepare data"
      ]
    },
    {
      "cell_type": "code",
      "execution_count": null,
      "metadata": {
        "colab": {
          "base_uri": "https://localhost:8080/",
          "height": 143
        },
        "id": "dRFi4joGr8lU",
        "outputId": "827685c6-d5b2-4ca1-ac27-67d7ef2b24ea"
      },
      "outputs": [
        {
          "data": {
            "text/html": [
              "<div>\n",
              "<style scoped>\n",
              "    .dataframe tbody tr th:only-of-type {\n",
              "        vertical-align: middle;\n",
              "    }\n",
              "\n",
              "    .dataframe tbody tr th {\n",
              "        vertical-align: top;\n",
              "    }\n",
              "\n",
              "    .dataframe thead th {\n",
              "        text-align: right;\n",
              "    }\n",
              "</style>\n",
              "<table border=\"1\" class=\"dataframe\">\n",
              "  <thead>\n",
              "    <tr style=\"text-align: right;\">\n",
              "      <th>language_preferred</th>\n",
              "      <th>English</th>\n",
              "      <th>French</th>\n",
              "      <th>Spanish</th>\n",
              "    </tr>\n",
              "    <tr>\n",
              "      <th>converted</th>\n",
              "      <th></th>\n",
              "      <th></th>\n",
              "      <th></th>\n",
              "    </tr>\n",
              "  </thead>\n",
              "  <tbody>\n",
              "    <tr>\n",
              "      <th>no</th>\n",
              "      <td>11</td>\n",
              "      <td>19</td>\n",
              "      <td>16</td>\n",
              "    </tr>\n",
              "    <tr>\n",
              "      <th>yes</th>\n",
              "      <td>21</td>\n",
              "      <td>15</td>\n",
              "      <td>18</td>\n",
              "    </tr>\n",
              "  </tbody>\n",
              "</table>\n",
              "</div>"
            ],
            "text/plain": [
              "language_preferred  English  French  Spanish\n",
              "converted                                   \n",
              "no                       11      19       16\n",
              "yes                      21      15       18"
            ]
          },
          "execution_count": 33,
          "metadata": {},
          "output_type": "execute_result"
        }
      ],
      "source": [
        "# create the contingency table showing the distribution of two categorical variables\n",
        "contingency_table = pd.crosstab(df['converted'], df['language_preferred'])\n",
        "contingency_table"
      ]
    },
    {
      "cell_type": "markdown",
      "metadata": {
        "id": "7e9wGX3-r-vc"
      },
      "source": [
        "### Step 5: Calculate the p-value"
      ]
    },
    {
      "cell_type": "code",
      "execution_count": null,
      "metadata": {
        "colab": {
          "base_uri": "https://localhost:8080/"
        },
        "id": "Er6kGJkYsAlq",
        "outputId": "ed5ea629-17df-4a6b-e2bf-68c7ec1e1424"
      },
      "outputs": [
        {
          "name": "stdout",
          "output_type": "stream",
          "text": [
            "The p-value is 0.21298887487543447\n"
          ]
        }
      ],
      "source": [
        "#import the required function\n",
        "from scipy.stats import chi2_contingency\n",
        "# use chi2_contingency() to find the p-value\n",
        "chi_2, p_value, dof, exp_freq = chi2_contingency(contingency_table)\n",
        "# print the p-value\n",
        "print('The p-value is', p_value)"
      ]
    },
    {
      "cell_type": "markdown",
      "metadata": {
        "id": "gnskcscbsCK7"
      },
      "source": [
        "### Step 6: Compare the p-value with $\\alpha$"
      ]
    },
    {
      "cell_type": "code",
      "execution_count": null,
      "metadata": {
        "colab": {
          "base_uri": "https://localhost:8080/"
        },
        "id": "TAWEUmG7sEJN",
        "outputId": "e1971018-4edf-4c8e-af19-c57dcc026d8a"
      },
      "outputs": [
        {
          "name": "stdout",
          "output_type": "stream",
          "text": [
            "As the p-value 0.21298887487543447 is greater than the level of significance, we fail to reject the null hypothesis.\n"
          ]
        }
      ],
      "source": [
        "# print the conclusion based on p-value\n",
        "if p_value < 0.05:\n",
        "    print(f'As the p-value {p_value} is less than the level of significance, we reject the null hypothesis.')\n",
        "else:\n",
        "    print(f'As the p-value {p_value} is greater than the level of significance, we fail to reject the null hypothesis.')"
      ]
    },
    {
      "cell_type": "markdown",
      "metadata": {
        "id": "gBGXeq2HsGXF"
      },
      "source": [
        "### Step 7:  Draw inference"
      ]
    },
    {
      "cell_type": "markdown",
      "metadata": {
        "id": "JZdMD0HosLg4"
      },
      "source": [
        "Since the p-value is greater than the 5% significance level, we fail to reject the null hypothesis. Hence, we do not have enough statistical evidence to say that the converted status depends on the preferred language."
      ]
    },
    {
      "cell_type": "markdown",
      "metadata": {
        "id": "FceYNDDsdfIC"
      },
      "source": [
        "## 4. Is the time spent on the new page same for the different language users?"
      ]
    },
    {
      "cell_type": "markdown",
      "metadata": {
        "id": "mFI1hr64TBaM"
      },
      "source": [
        "### Perform Visual Analysis"
      ]
    },
    {
      "cell_type": "code",
      "execution_count": null,
      "metadata": {
        "colab": {
          "base_uri": "https://localhost:8080/",
          "height": 498
        },
        "id": "u_wWeE2vsXSD",
        "outputId": "34b69b89-fd72-4fcd-ed0f-4f615a9b8ae8",
        "scrolled": false
      },
      "outputs": [
        {
          "data": {
            "image/png": "[encoded data removed]",
            "text/plain": [
              "<Figure size 576x576 with 1 Axes>"
            ]
          },
          "metadata": {
            "needs_background": "light"
          },
          "output_type": "display_data"
        }
      ],
      "source": [
        "# visual analysis of the mean time spent on the new page for different language users\n",
        "plt.figure(figsize=(8,8))\n",
        "# create a new DataFrame for users served the new page\n",
        "df_new = df[df['landing_page'] == 'new']\n",
        "sns.boxplot(x = 'language_preferred', y = 'time_spent_on_the_page', showmeans = True, data = df_new)\n",
        "plt.show()"
      ]
    },
    {
      "cell_type": "code",
      "execution_count": null,
      "metadata": {
        "colab": {
          "base_uri": "https://localhost:8080/"
        },
        "id": "kocCWAB4sZyZ",
        "outputId": "b5eb5679-7738-4d70-b0a0-e141a65803cf"
      },
      "outputs": [
        {
          "data": {
            "text/plain": [
              "language_preferred\n",
              "English    6.663750\n",
              "French     6.196471\n",
              "Spanish    5.835294\n",
              "Name: time_spent_on_the_page, dtype: float64"
            ]
          },
          "execution_count": 37,
          "metadata": {},
          "output_type": "execute_result"
        }
      ],
      "source": [
        "# Checking the mean time spent on the new page for different language users\n",
        "df_new.groupby(['language_preferred'])['time_spent_on_the_page'].mean()"
      ]
    },
    {
      "cell_type": "markdown",
      "metadata": {
        "id": "VXtWxHnQsagq"
      },
      "source": [
        "The mean time spent on the new page by English users is a bit higher than the mean time spent by French and Spanish users, but we need to test if this difference is statistically significant or not. "
      ]
    },
    {
      "cell_type": "markdown",
      "metadata": {
        "id": "oVHpZzopsdrs"
      },
      "source": [
        "### Step 1: Define the null and alternative hypotheses"
      ]
    },
    {
      "cell_type": "markdown",
      "metadata": {
        "id": "2tjTd9GHsf9D"
      },
      "source": [
        "> $H_0:$ The mean times spent on the new page by English, French, and Spanish users are equal. <br>\n",
        "$H_a:$ At least one of the mean times spent on the new page by English, French, and Spanish users is unequal."
      ]
    },
    {
      "cell_type": "markdown",
      "metadata": {
        "id": "JaJybnB-siq2"
      },
      "source": [
        "### Step 2: Select Appropriate test"
      ]
    },
    {
      "cell_type": "markdown",
      "metadata": {
        "id": "9LSNgmm_slop"
      },
      "source": [
        "This is a problem, concerning three population means. One-way ANOVA could be the appropriate test here provided normality and equality of variance assumptions are verified.\n",
        "\n",
        "* For testing of normality, Shapiro-Wilk’s test is applied to the response variable.\n",
        "\n",
        "* For equality of variance, Levene test is applied to the response variable."
      ]
    },
    {
      "cell_type": "markdown",
      "metadata": {
        "id": "NQo6IcsLsqiM"
      },
      "source": [
        "#### Shapiro-Wilk’s test\n",
        "\n",
        "We will test the null hypothesis\n",
        "\n",
        ">$H_0:$ Time spent on the new page follows a normal distribution\n",
        "\n",
        "against the alternative hypothesis\n",
        "\n",
        ">$H_a:$ Time spent on the new page does not follow a normal distribution"
      ]
    },
    {
      "cell_type": "code",
      "execution_count": null,
      "metadata": {
        "colab": {
          "base_uri": "https://localhost:8080/"
        },
        "id": "AxUUzmZasrM4",
        "outputId": "0f95e679-1607-4eb6-b921-8b549a9e0d22"
      },
      "outputs": [
        {
          "name": "stdout",
          "output_type": "stream",
          "text": [
            "The p-value is 0.8040016293525696\n"
          ]
        }
      ],
      "source": [
        "# Assumption 1: Normality\n",
        "# import the required function\n",
        "from scipy.stats import shapiro\n",
        "\n",
        "# find the p-value\n",
        "w, p_value = shapiro(df_new['time_spent_on_the_page']) \n",
        "print('The p-value is', p_value)"
      ]
    },
    {
      "cell_type": "markdown",
      "metadata": {
        "id": "NpCvOyfustjP"
      },
      "source": [
        "Since p-value of the test is very large than the 5% significance level, we fail to reject the null hypothesis that the response follows the normal distribution."
      ]
    },
    {
      "cell_type": "markdown",
      "metadata": {
        "id": "6DSOQn2fsvp4"
      },
      "source": [
        "#### Levene’s test\n",
        "\n",
        "We will test the null hypothesis\n",
        "\n",
        ">$H_0$: All the population variances are equal\n",
        "\n",
        "against the alternative hypothesis\n",
        "\n",
        ">$H_a$: At least one variance is different from the rest"
      ]
    },
    {
      "cell_type": "code",
      "execution_count": null,
      "metadata": {
        "colab": {
          "base_uri": "https://localhost:8080/"
        },
        "id": "rmYjwNIBsyJZ",
        "outputId": "c404cc74-c896-44cd-932e-6f3127558566"
      },
      "outputs": [
        {
          "name": "stdout",
          "output_type": "stream",
          "text": [
            "The p-value is 0.46711357711340173\n"
          ]
        }
      ],
      "source": [
        "#Assumption 2: Homogeneity of Variance\n",
        "#import the required function\n",
        "from scipy.stats import levene\n",
        "statistic, p_value = levene( df_new[df_new['language_preferred']==\"English\"]['time_spent_on_the_page'], \n",
        "                             df_new[df_new['language_preferred']==\"French\"]['time_spent_on_the_page'], \n",
        "                             df_new[df_new['language_preferred']==\"Spanish\"]['time_spent_on_the_page'])\n",
        "# find the p-value\n",
        "print('The p-value is', p_value)"
      ]
    },
    {
      "cell_type": "markdown",
      "metadata": {
        "id": "1JBkDmBws3Mf"
      },
      "source": [
        "Since the p-value is large than the 5% significance level, we fail to reject the null hypothesis of homogeneity of variances."
      ]
    },
    {
      "cell_type": "markdown",
      "metadata": {
        "id": "_saPvDsEs5Mw"
      },
      "source": [
        "### Step 3: Decide the significance level"
      ]
    },
    {
      "cell_type": "markdown",
      "metadata": {
        "id": "1lrcJnkZs7gR"
      },
      "source": [
        "As given in the problem statement, we select α = 0.05."
      ]
    },
    {
      "cell_type": "markdown",
      "metadata": {
        "id": "2AR1AnjTs72L"
      },
      "source": [
        "### Step 4: Collect and prepare data"
      ]
    },
    {
      "cell_type": "code",
      "execution_count": null,
      "metadata": {
        "id": "BVbsWADgs54Q"
      },
      "outputs": [],
      "source": [
        "time_spent_English = df_new[df_new['language_preferred']==\"English\"]['time_spent_on_the_page']\n",
        "time_spent_French = df_new[df_new['language_preferred']==\"French\"]['time_spent_on_the_page']\n",
        "time_spent_Spanish = df_new[df_new['language_preferred']==\"Spanish\"]['time_spent_on_the_page']"
      ]
    },
    {
      "cell_type": "markdown",
      "metadata": {
        "id": "hgZgHh-Es_oP"
      },
      "source": [
        "### Step 5: Calculate the p-value"
      ]
    },
    {
      "cell_type": "code",
      "execution_count": null,
      "metadata": {
        "colab": {
          "base_uri": "https://localhost:8080/"
        },
        "id": "LG0lNKSOtBoe",
        "outputId": "ce473bbb-c37d-4026-f751-cfe119577150"
      },
      "outputs": [
        {
          "name": "stdout",
          "output_type": "stream",
          "text": [
            "The p-value is 0.43204138694325955\n"
          ]
        }
      ],
      "source": [
        "# import the required function\n",
        "from scipy.stats import f_oneway\n",
        "# find the p-value\n",
        "test_stat, p_value = f_oneway(time_spent_English, time_spent_French, time_spent_Spanish)\n",
        "# print the p-value\n",
        "print('The p-value is', p_value)"
      ]
    },
    {
      "cell_type": "markdown",
      "metadata": {
        "id": "dSMnZCnlFCjf"
      },
      "source": [
        "### Step 6: Compare the p-value with $\\alpha$"
      ]
    },
    {
      "cell_type": "code",
      "execution_count": null,
      "metadata": {
        "colab": {
          "base_uri": "https://localhost:8080/"
        },
        "id": "ZNmvCXDbtGDY",
        "outputId": "70e3fc89-5a59-422b-ca8b-b02f80d189a6"
      },
      "outputs": [
        {
          "name": "stdout",
          "output_type": "stream",
          "text": [
            "As the p-value 0.43204138694325955 is greater than the level of significance, we fail to reject the null hypothesis.\n"
          ]
        }
      ],
      "source": [
        "# print the conclusion based on p-value\n",
        "if p_value < 0.05:\n",
        "    print(f'As the p-value {p_value} is less than the level of significance, we reject the null hypothesis.')\n",
        "else:\n",
        "    print(f'As the p-value {p_value} is greater than the level of significance, we fail to reject the null hypothesis.')"
      ]
    },
    {
      "cell_type": "markdown",
      "metadata": {
        "id": "lwvUhqTAtJWG"
      },
      "source": [
        "### Step 7:  Draw inference"
      ]
    },
    {
      "cell_type": "markdown",
      "metadata": {
        "id": "7yrseNmVtNTA"
      },
      "source": [
        "Since the p-value is greater than the 5% significance level, we fail to reject the null hypothesis. Hence, we do not have enough statistical evidence to say that the mean times spent on the new page by English, French, and Spanish users differ to any meaningful degree."
      ]
    },
    {
      "cell_type": "markdown",
      "metadata": {
        "id": "2wW3CxiIY9co"
      },
      "source": [
        "## Conclusion and Recommendations"
      ]
    },
    {
      "cell_type": "markdown",
      "metadata": {
        "id": "yDSOIPTP-uGp"
      },
      "source": [
        "- The users spend more time on the new page.\n",
        "  - This indicates that the outline & recommended content of the new page is more likely to keep customers engaged long enough to make a decision to subscribe\n",
        "\n",
        "- The conversion rate for the new page is greater than the conversion rate of the old page\n",
        "  - This indicates that the new page is more likely to gather new subscribers than the existing page\n",
        "\n",
        "- The conversion status is independent of the preferred language\n",
        "\n",
        "- The time spent on the new page does not differ with the language of the content\n",
        "  - This indicates that irrespective of the language, the outline & recommended content of the new page are engaging\n",
        "\n",
        "- It is recommended that the news company uses the new landing page to gather more subscribers\n",
        "  - The business logic would be to design a page that people spend time in, conversion will follow"
      ]
    },
    {
      "cell_type": "markdown",
      "metadata": {
        "id": "mdpvx7NU-ktN"
      },
      "source": [
        "___"
      ]
    }
  ],
  "metadata": {
    "colab": {
      "collapsed_sections": [
        "f0u38-sz29Ca",
        "WnqWiys631Ms",
        "RKxn0uc73665",
        "3RME3ORG4FN7",
        "kNu7sMLs70mx",
        "inS7KsVt724y",
        "99JkpQZO73Uz",
        "XTdb30lb9M65",
        "4uJNS_5QYQPp",
        "wKuSrs67zZ81",
        "RGeFn6e8AdsC",
        "6-ibd3yLNBfb",
        "ZhVuH6lCPui8",
        "eUHR4RKcS-1n",
        "ByMi2Yd5TGS_",
        "E_zGye-Kbbie",
        "FceYNDDsdfIC",
        "2wW3CxiIY9co"
      ],
      "provenance": []
    },
    "kernelspec": {
      "display_name": "Python 3",
      "language": "python",
      "name": "python3"
    },
    "language_info": {
      "codemirror_mode": {
        "name": "ipython",
        "version": 3
      },
      "file_extension": ".py",
      "mimetype": "text/x-python",
      "name": "python",
      "nbconvert_exporter": "python",
      "pygments_lexer": "ipython3",
      "version": "3.8.8"
    }
  },
  "nbformat": 4,
  "nbformat_minor": 0
}